{
  "nbformat": 4,
  "nbformat_minor": 0,
  "metadata": {
    "colab": {
      "provenance": []
    },
    "kernelspec": {
      "name": "python3",
      "display_name": "Python 3"
    },
    "language_info": {
      "name": "python"
    }
  },
  "cells": [
    {
      "cell_type": "code",
      "execution_count": 1,
      "metadata": {
        "id": "O4oTbYV1m-jI"
      },
      "outputs": [],
      "source": [
        "##Updated Perceptron Model Code\n",
        "import numpy as np\n",
        "\n",
        "# Define step activation function\n",
        "def step_function(value):\n",
        "    return 1 if value >= 0 else 0\n",
        "\n",
        "# Define the perceptron model (with weight and bias updates)\n",
        "class LogicPerceptron:\n",
        "    def __init__(self, num_iterations=10, learning_rate=0.1):\n",
        "        self.num_iterations = num_iterations\n",
        "        self.learning_rate = learning_rate\n",
        "        self.weights = None\n",
        "        self.bias = None\n",
        "\n",
        "    # Perceptron prediction (linear output + activation)\n",
        "    def predict(self, inputs):\n",
        "        output_value = np.dot(inputs, self.weights) + self.bias\n",
        "        return step_function(output_value)\n",
        "\n",
        "    # Train the perceptron (adjust weights and bias)\n",
        "    def train(self, features, labels):\n",
        "        num_samples, num_features = features.shape\n",
        "        # Initialize weights and bias\n",
        "        self.weights = np.zeros(num_features)\n",
        "        self.bias = 0\n",
        "\n",
        "        # Training process\n",
        "        for _ in range(self.num_iterations):\n",
        "            for index in range(num_samples):\n",
        "                linear_output = np.dot(features[index], self.weights) + self.bias\n",
        "                prediction = step_function(linear_output)\n",
        "\n",
        "                # Calculate the update factor\n",
        "                adjustment = self.learning_rate * (labels[index] - prediction)\n",
        "\n",
        "                # Update the weights and bias\n",
        "                self.weights += adjustment * features[index]\n",
        "                self.bias += adjustment\n"
      ]
    },
    {
      "cell_type": "code",
      "source": [
        "# Logic functions using the perceptron model\n",
        "class LogicGateSimulator(LogicPerceptron):\n",
        "    def AND_gate(self, inputs):\n",
        "        return self.predict(inputs)\n",
        "\n",
        "    def OR_gate(self, inputs):\n",
        "        return self.predict(inputs)\n",
        "\n",
        "    def NOT_gate(self, input_val):\n",
        "        # NOT gate is unary and requires a fixed weight and bias\n",
        "        w = np.array([-1])\n",
        "        b = 0.5\n",
        "        output = np.dot(w, input_val) + b\n",
        "        return step_function(output)\n",
        "\n",
        "    def XOR_gate(self, inputs):\n",
        "        and_result = self.AND_gate(inputs)\n",
        "        or_result = self.OR_gate(inputs)\n",
        "        not_and_result = self.NOT_gate(np.array([and_result]))\n",
        "        xor_input = np.array([or_result, not_and_result])\n",
        "        return self.AND_gate(xor_input)\n",
        "\n",
        "# Training data\n",
        "X_data = np.array([[0, 0], [0, 1], [1, 0], [1, 1]])\n",
        "\n",
        "# Labels for different gates\n",
        "and_labels = np.array([0, 0, 0, 1])\n",
        "or_labels = np.array([0, 1, 1, 1])\n",
        "\n",
        "# Initialize Logic Gate Simulator\n",
        "simulator = LogicGateSimulator(num_iterations=10, learning_rate=0.1)\n",
        "\n",
        "# Train for AND logic\n",
        "print(\"Training for AND gate...\")\n",
        "simulator.train(X_data, and_labels)\n",
        "\n",
        "# Testing XOR gate logic\n",
        "test_cases = [np.array([0, 1]), np.array([1, 1]), np.array([0, 0]), np.array([1, 0])]\n",
        "\n",
        "for case in test_cases:\n",
        "    print(f\"XOR({case[0]},{case[1]}) = {simulator.XOR_gate(case)}\")\n"
      ],
      "metadata": {
        "colab": {
          "base_uri": "https://localhost:8080/"
        },
        "id": "iSnhqL8ynAu_",
        "outputId": "a494213c-19f9-4a37-edda-7f51f296d23e"
      },
      "execution_count": 2,
      "outputs": [
        {
          "output_type": "stream",
          "name": "stdout",
          "text": [
            "Training for AND gate...\n",
            "XOR(0,1) = 0\n",
            "XOR(1,1) = 0\n",
            "XOR(0,0) = 0\n",
            "XOR(1,0) = 0\n"
          ]
        }
      ]
    }
  ]
}