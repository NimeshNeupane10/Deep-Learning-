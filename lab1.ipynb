{
  "nbformat": 4,
  "nbformat_minor": 0,
  "metadata": {
    "colab": {
      "provenance": []
    },
    "kernelspec": {
      "name": "python3",
      "display_name": "Python 3"
    },
    "language_info": {
      "name": "python"
    }
  },
  "cells": [
    {
      "cell_type": "code",
      "execution_count": 1,
      "metadata": {
        "colab": {
          "base_uri": "https://localhost:8080/"
        },
        "id": "ywVH9cHIouTk",
        "outputId": "7b06d443-3bb3-4202-a51f-46a188d3223d"
      },
      "outputs": [
        {
          "output_type": "stream",
          "name": "stdout",
          "text": [
            "Training for AND gate...\n",
            "XOR(0, 1) = 0\n",
            "XOR(1, 1) = 0\n",
            "XOR(0, 0) = 0\n",
            "XOR(1, 0) = 0\n"
          ]
        }
      ],
      "source": [
        "#updating weights and bias\n",
        "\n",
        "import numpy as np\n",
        "\n",
        "# Define unit step function (activation function)\n",
        "def unitStep(v):\n",
        "    return 1 if v >= 0 else 0\n",
        "\n",
        "# Define the perceptron model (with weight and bias updates)\n",
        "class Perceptron:\n",
        "    def __init__(self, n_iterations=12, learning_rate=0.08):\n",
        "        self.n_iterations = n_iterations\n",
        "        self.learning_rate = learning_rate\n",
        "        self.weights = None\n",
        "        self.bias = None\n",
        "\n",
        "    # Perceptron prediction (linear output + activation)\n",
        "    def perceptronModel(self, x):\n",
        "        weighted_input = np.dot(x, self.weights) + self.bias\n",
        "        return unitStep(weighted_input)\n",
        "\n",
        "    # Train the perceptron (adjusting weights and bias)\n",
        "    def fit(self, X, y):\n",
        "        samples_count, features_count = X.shape\n",
        "        # Initialize weights and bias\n",
        "        self.weights = np.zeros(features_count)\n",
        "        self.bias = 0\n",
        "\n",
        "        # Training loop over all epochs\n",
        "        for epoch in range(self.n_iterations):\n",
        "            for index in range(samples_count):\n",
        "                # Calculate weighted input and prediction\n",
        "                weighted_input = np.dot(X[index], self.weights) + self.bias\n",
        "                prediction = unitStep(weighted_input)\n",
        "\n",
        "                # Determine the error and update value\n",
        "                error = y[index] - prediction\n",
        "                update_value = self.learning_rate * error\n",
        "\n",
        "                # Adjust weights and bias\n",
        "                self.weights += update_value * X[index]\n",
        "                self.bias += update_value\n",
        "\n",
        "    # Logic gate functions using trained weights\n",
        "    def AND_logicFunction(self, x):\n",
        "        return self.perceptronModel(x)\n",
        "\n",
        "    def OR_logicFunction(self, x):\n",
        "        return self.perceptronModel(x)\n",
        "\n",
        "    def NOT_logicFunction(self, x):\n",
        "        # NOT gate specific weights and bias for single input\n",
        "        not_weight = np.array([-1])\n",
        "        not_bias = 0.5\n",
        "        weighted_input = np.dot(not_weight, x) + not_bias\n",
        "        return unitStep(weighted_input)\n",
        "\n",
        "    def XOR_logicFunction(self, x):\n",
        "        # Using AND, OR, NOT to simulate XOR\n",
        "        and_result = self.AND_logicFunction(x)\n",
        "        or_result = self.OR_logicFunction(x)\n",
        "        not_and_result = self.NOT_logicFunction(np.array([and_result]))\n",
        "        xor_input = np.array([or_result, not_and_result])\n",
        "        return self.AND_logicFunction(xor_input)\n",
        "\n",
        "# Training data for AND, OR, and XOR gates\n",
        "X_train = np.array([[0, 0], [0, 1], [1, 0], [1, 1]])\n",
        "\n",
        "# Labels for AND gate\n",
        "y_AND = np.array([0, 0, 0, 1])  # AND truth table\n",
        "# Labels for OR gate\n",
        "y_OR = np.array([0, 1, 1, 1])   # OR truth table\n",
        "\n",
        "# Initialize Perceptron model with modified parameters\n",
        "perceptron = Perceptron(n_iterations=12, learning_rate=0.08)\n",
        "\n",
        "# Train for AND logic\n",
        "print(\"Training for AND gate...\")\n",
        "perceptron.fit(X_train, y_AND)\n",
        "\n",
        "# Testing XOR logic using trained AND and OR gates\n",
        "test_cases = [np.array([0, 1]), np.array([1, 1]), np.array([0, 0]), np.array([1, 0])]\n",
        "for test in test_cases:\n",
        "    print(f\"XOR({test[0]}, {test[1]}) = {perceptron.XOR_logicFunction(test)}\")\n"
      ]
    }
  ]
}